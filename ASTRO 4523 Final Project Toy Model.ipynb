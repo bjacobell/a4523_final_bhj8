{
 "cells": [
  {
   "cell_type": "code",
   "execution_count": 1,
   "id": "bfccf144",
   "metadata": {},
   "outputs": [
    {
     "name": "stdout",
     "output_type": "stream",
     "text": [
      "[{'input_dim': 8000, 'output_dim': 8192}, {'input_dim': 8192, 'output_dim': 64}, {'input_dim': 64, 'output_dim': 8}, {'input_dim': 8, 'output_dim': 1}]\n"
     ]
    }
   ],
   "source": [
    "import numpy as np\n",
    "\n",
    "# define network architecture \n",
    "\n",
    "nn_architecture = [\n",
    "    {\"input_dim\": 8000, \"output_dim\": 8192},\n",
    "    {\"input_dim\": 8192, \"output_dim\": 64},\n",
    "    {\"input_dim\": 64, \"output_dim\": 8},\n",
    "    {\"input_dim\": 8, \"output_dim\": 1},\n",
    "#    {\"input_dim\": 4, \"output_dim\": 1, \"activation\": \"sigmoid\"},\n",
    "]\n",
    "\n",
    "print(nn_architecture)"
   ]
  },
  {
   "cell_type": "code",
   "execution_count": 2,
   "id": "ec0ea8f2",
   "metadata": {},
   "outputs": [],
   "source": [
    "# populate weight matrices and bias vectors with small random values\n",
    "\n",
    "def init_layers(nn_architecture):\n",
    "    number_of_layers = len(nn_architecture)\n",
    "    params_values = {}\n",
    "\n",
    "    for index, layer in enumerate(nn_architecture):\n",
    "        layer_index = index + 1\n",
    "        layer_input_size = layer[\"input_dim\"]\n",
    "        layer_output_size = layer[\"output_dim\"]\n",
    "        \n",
    "        params_values['W' + str(layer_index)] = np.random.randn(\n",
    "            layer_output_size, layer_input_size) * 0.1   # the 0.1 can be tuned\n",
    "        params_values['b' + str(layer_index)] = np.random.randn(\n",
    "            layer_output_size, 1) * 0.1                  # here too\n",
    "        \n",
    "    return params_values"
   ]
  },
  {
   "cell_type": "code",
   "execution_count": 3,
   "id": "99a1a0c1",
   "metadata": {},
   "outputs": [],
   "source": [
    "# define ReLU, max(0,Z), and its derivative, the Heaviside function\n",
    "\n",
    "def relu(Z):\n",
    "    return np.maximum(0,Z)\n",
    "\n",
    "def d_relu(dA, Z):\n",
    "    dZ = np.array(dA)\n",
    "    dZ[Z <= 0] = 0;\n",
    "    return dZ;"
   ]
  },
  {
   "cell_type": "code",
   "execution_count": 4,
   "id": "6110237a",
   "metadata": {},
   "outputs": [],
   "source": [
    "def single_layer_forward(A_prev, W_curr, b_curr):\n",
    "    \n",
    "    Z_curr = np.dot(W_curr, A_prev) + b_curr    # apply the layer's weights and biases to the input\n",
    "    activated_Z = relu(Z_curr)                  # apply forward activation function\n",
    "        \n",
    "    return activated_Z, Z_curr"
   ]
  },
  {
   "cell_type": "code",
   "execution_count": 5,
   "id": "be93ce14",
   "metadata": {},
   "outputs": [],
   "source": [
    "def forward_all(data, params_values, nn_architecture):\n",
    "    memory = {}                                 # build dictionary \"memory\" of weights and biases\n",
    "    A_curr = data                               # initialize activated output with input data\n",
    "    \n",
    "    for index, layer in enumerate(nn_architecture):\n",
    "        layer_index = index + 1\n",
    "        A_prev = A_curr\n",
    "        \n",
    "        W_curr = params_values[\"W\" + str(layer_index)]\n",
    "        b_curr = params_values[\"b\" + str(layer_index)]\n",
    "        A_curr, Z_curr = single_layer_forward(A_prev, W_curr, b_curr)\n",
    "        \n",
    "        memory[\"A\" + str(index)] = A_prev\n",
    "        memory[\"Z\" + str(layer_index)] = Z_curr\n",
    "       \n",
    "    return A_curr, memory"
   ]
  },
  {
   "cell_type": "code",
   "execution_count": 6,
   "id": "4951942c",
   "metadata": {},
   "outputs": [],
   "source": [
    "# loss function\n",
    "\n",
    "def mse(preds, labels):\n",
    "    mse = ((labels - preds)**2).mean()\n",
    "    return np.squeeze(mse)"
   ]
  },
  {
   "cell_type": "code",
   "execution_count": 7,
   "id": "b93d2793",
   "metadata": {},
   "outputs": [],
   "source": [
    "def single_layer_backward(dA_curr, W_curr, b_curr, Z_curr, A_prev):\n",
    "    m = A_prev.shape[1]                          # for normalizing\n",
    "    \n",
    "    dZ_curr = d_relu(dA_curr, Z_curr)            # get dZ (change in Z) using sign of intermediate Z\n",
    "    dW_curr = np.dot(dZ_curr, A_prev.T) / m      # get changes in weights\n",
    "    db_curr = np.sum(dZ_curr, axis=1, keepdims=True) / m # and in biases\n",
    "    dA_prev = np.dot(W_curr.T, dZ_curr)          # needed for full backprop below\n",
    "\n",
    "    return dA_prev, dW_curr, db_curr"
   ]
  },
  {
   "cell_type": "code",
   "execution_count": 8,
   "id": "3b7196be",
   "metadata": {},
   "outputs": [],
   "source": [
    "def backward_all(preds, labels, memory, params_values, nn_architecture):\n",
    "    grads_values = {}\n",
    "    m = len(labels)\n",
    "    labels = labels.reshape(preds.shape)\n",
    "   \n",
    "    dA_prev = - (np.divide(labels, preds, out=np.zeros_like(labels), where=preds!=0) - np.divide(1 - labels, 1 - preds, out=np.zeros_like(1 - labels), where=(1-preds)!=0));\n",
    "    \n",
    "    for layer_index_prev, layer in reversed(list(enumerate(nn_architecture))):\n",
    "        layer_index_curr = layer_index_prev + 1\n",
    "        \n",
    "        dA_curr = dA_prev\n",
    "        \n",
    "        A_prev = memory[\"A\" + str(layer_index_prev)]            # store input in memory\n",
    "        Z_curr = memory[\"Z\" + str(layer_index_curr)]            # store intermediate step in memory\n",
    "        W_curr = params_values[\"W\" + str(layer_index_curr)]     # store weights\n",
    "        b_curr = params_values[\"b\" + str(layer_index_curr)]     # store biases\n",
    "        \n",
    "        dA_prev, dW_curr, db_curr = single_layer_backward(\n",
    "            dA_curr, W_curr, b_curr, Z_curr, A_prev)\n",
    "        \n",
    "        grads_values[\"dW\" + str(layer_index_curr)] = dW_curr      # store changes to weights\n",
    "        grads_values[\"db\" + str(layer_index_curr)] = db_curr      #               and biases\n",
    "    \n",
    "    return grads_values"
   ]
  },
  {
   "cell_type": "code",
   "execution_count": 9,
   "id": "1021857b",
   "metadata": {},
   "outputs": [],
   "source": [
    "# perform an update according to gradients calculated in backward_all(); end one epoch\n",
    "\n",
    "def update(params_values, grads_values, nn_architecture, learning_rate):\n",
    "    for index, layer in enumerate(nn_architecture):\n",
    "        layer_index = index + 1\n",
    "        params_values[\"W\" + str(layer_index)] -= learning_rate * grads_values[\"dW\" + str(layer_index)]        \n",
    "        params_values[\"b\" + str(layer_index)] -= learning_rate * grads_values[\"db\" + str(layer_index)]\n",
    "\n",
    "    return params_values;"
   ]
  },
  {
   "cell_type": "code",
   "execution_count": 10,
   "id": "247e3539",
   "metadata": {},
   "outputs": [],
   "source": [
    "# demo below, after data simulation\n",
    "\n",
    "def train(data, labels, nn_architecture, epochs, learning_rate):\n",
    "    params_values = init_layers(nn_architecture)\n",
    "    loss_history = []\n",
    "    \n",
    "    for i in range(epochs):\n",
    "        preds, cache = forward_all(data, params_values, nn_architecture)\n",
    "        loss = mse(preds, labels)\n",
    "        loss_history.append(loss)\n",
    "        \n",
    "        grads_values = backward_all(preds, labels, cache, params_values, nn_architecture)\n",
    "        params_values = update(params_values, grads_values, nn_architecture, learning_rate)\n",
    "        \n",
    "    return params_values, loss_history"
   ]
  },
  {
   "cell_type": "code",
   "execution_count": 11,
   "id": "94db6a0c",
   "metadata": {},
   "outputs": [],
   "source": [
    "# generate a simple burst\n",
    "\n",
    "def make_burst(DM, width):\n",
    "    burst = np.zeros( (10,800) )\n",
    "    DM = DM\n",
    "    width = width\n",
    "    for i in range(10):\n",
    "        for j in range(width):\n",
    "            burst[i][j] = 1\n",
    "    delay_0 = int(4140.*DM*1000/(1500-50*0)**2) \n",
    "    for i in range(10):\n",
    "        delay = int(4140.*DM*1000/(1500-50*i)**2)     # using AstroBaki DM law — see \"References\"\n",
    "        burst[i] = np.roll(burst[i], delay-delay_0)\n",
    "    return burst"
   ]
  },
  {
   "cell_type": "code",
   "execution_count": 12,
   "id": "53fe6843",
   "metadata": {},
   "outputs": [],
   "source": [
    "# generate a whole bunch of bursts\n",
    "\n",
    "def generate_data(qty):\n",
    "    data = []\n",
    "    qty = qty\n",
    "    for i in range(qty):\n",
    "        DM = np.random.uniform(low=5, high=200)\n",
    "        width = int(np.random.uniform(low=1, high=20))\n",
    "        burst = make_burst(DM, width)\n",
    "        data.append([DM, burst])\n",
    "    return data"
   ]
  },
  {
   "cell_type": "code",
   "execution_count": 13,
   "id": "b5726235",
   "metadata": {},
   "outputs": [],
   "source": [
    "bursts = generate_data(1000)\n",
    "\n",
    "data = [i[1] for i in bursts]        # split \"bursts\", an array including both DMs and dynamic spectra, into\n",
    "labels = [i[0] for i in bursts]      # \"data\" and \"labels\""
   ]
  },
  {
   "cell_type": "code",
   "execution_count": 14,
   "id": "13c58b37",
   "metadata": {},
   "outputs": [],
   "source": [
    "data = [i.flatten() for i in data]\n",
    "data = np.transpose(data)\n",
    "labels = np.array(labels)"
   ]
  },
  {
   "cell_type": "code",
   "execution_count": 16,
   "id": "df5c68ce",
   "metadata": {},
   "outputs": [],
   "source": [
    "# demo\n",
    "\n",
    "epochs = 10\n",
    "learning_rate = 0.0001\n",
    "\n",
    "params, loss_hist = train(data, labels, nn_architecture, epochs, learning_rate)"
   ]
  },
  {
   "cell_type": "code",
   "execution_count": 17,
   "id": "88bf38bb",
   "metadata": {},
   "outputs": [
    {
     "data": {
      "image/png": "[encoded data removed]",
      "text/plain": [
       "<Figure size 432x288 with 1 Axes>"
      ]
     },
     "metadata": {
      "needs_background": "light"
     },
     "output_type": "display_data"
    }
   ],
   "source": [
    "import matplotlib.pyplot as plt\n",
    "\n",
    "plt.plot(loss_hist)\n",
    "plt.ylabel('mean squared error')\n",
    "plt.xlabel('epoch')\n",
    "plt.show()"
   ]
  },
  {
   "cell_type": "code",
   "execution_count": 18,
   "id": "47463ee2",
   "metadata": {},
   "outputs": [
    {
     "name": "stdout",
     "output_type": "stream",
     "text": [
      "117.44693198521742\n"
     ]
    }
   ],
   "source": [
    "print(np.sqrt(loss_hist[-1]))  # final RMSE"
   ]
  },
  {
   "cell_type": "code",
   "execution_count": null,
   "id": "cafb0e15",
   "metadata": {},
   "outputs": [],
   "source": []
  }
 ],
 "metadata": {
  "kernelspec": {
   "display_name": "Python 3 (ipykernel)",
   "language": "python",
   "name": "python3"
  },
  "language_info": {
   "codemirror_mode": {
    "name": "ipython",
    "version": 3
   },
   "file_extension": ".py",
   "mimetype": "text/x-python",
   "name": "python",
   "nbconvert_exporter": "python",
   "pygments_lexer": "ipython3",
   "version": "3.9.12"
  }
 },
 "nbformat": 4,
 "nbformat_minor": 5
}
