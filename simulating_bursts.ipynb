{
 "cells": [
  {
   "cell_type": "code",
   "execution_count": 315,
   "id": "1a0af1bf",
   "metadata": {},
   "outputs": [],
   "source": [
    "import numpy as np\n",
    "import matplotlib.pyplot as plt"
   ]
  },
  {
   "cell_type": "code",
   "execution_count": 3,
   "id": "036e3198",
   "metadata": {},
   "outputs": [],
   "source": [
    "# initialize \"dedispersed\" burst\n",
    "\n",
    "burst = []\n",
    "for i in range(100):\n",
    "    burst.append(np.zeros(100))"
   ]
  },
  {
   "cell_type": "code",
   "execution_count": 4,
   "id": "98c43ecd",
   "metadata": {},
   "outputs": [],
   "source": [
    "burst = np.array(burst)"
   ]
  },
  {
   "cell_type": "code",
   "execution_count": 5,
   "id": "a9068c01",
   "metadata": {},
   "outputs": [
    {
     "name": "stdout",
     "output_type": "stream",
     "text": [
      "(100, 100)\n"
     ]
    }
   ],
   "source": [
    "print(burst.shape)"
   ]
  },
  {
   "cell_type": "code",
   "execution_count": 302,
   "id": "7e8a1434",
   "metadata": {},
   "outputs": [],
   "source": [
    "def make_burst(DM, width):\n",
    "    burst = np.zeros( (10,800) )\n",
    "    DM = DM\n",
    "    width = width\n",
    "    for i in range(10):\n",
    "        for j in range(width):\n",
    "            burst[i][j] = 1\n",
    "    delay_0 = int(4140.*DM*1000/(1500-50*0)**2)\n",
    "    for i in range(10):\n",
    "        delay = int(4140.*DM*1000/(1500-50*i)**2)\n",
    "        burst[i] = np.roll(burst[i], delay-delay_0)\n",
    "#    plt.imshow(burst[:,:100])\n",
    "#    plt.show()\n",
    "    return burst\n",
    "\n",
    "#make_burst(200)"
   ]
  },
  {
   "cell_type": "code",
   "execution_count": 129,
   "id": "deb61b27",
   "metadata": {
    "scrolled": true
   },
   "outputs": [
    {
     "data": {
      "image/png": "[encoded data removed]",
      "text/plain": [
       "<Figure size 432x288 with 1 Axes>"
      ]
     },
     "metadata": {
      "needs_background": "light"
     },
     "output_type": "display_data"
    }
   ],
   "source": [
    "burst100 = make_burst(100, 10)\n",
    "plt.imshow(burst100[:,:500], interpolation = 'nearest')\n",
    "plt.gca().set_aspect('auto')\n",
    "plt.show()"
   ]
  },
  {
   "cell_type": "code",
   "execution_count": 124,
   "id": "309679b6",
   "metadata": {},
   "outputs": [
    {
     "data": {
      "image/png": "[encoded data removed]",
      "text/plain": [
       "<Figure size 432x288 with 1 Axes>"
      ]
     },
     "metadata": {
      "needs_background": "light"
     },
     "output_type": "display_data"
    }
   ],
   "source": [
    "randDM = np.random.uniform(low=5, high=200)\n",
    "randwidth = int(np.random.uniform(low=1, high=20))\n",
    "test_burst = make_burst(randDM, randwidth)\n",
    "plt.imshow(test_burst[:,:500])\n",
    "plt.gca().set_aspect('auto')\n",
    "plt.show()"
   ]
  },
  {
   "cell_type": "code",
   "execution_count": 303,
   "id": "87fe6765",
   "metadata": {},
   "outputs": [],
   "source": [
    "def generate_data(qty):\n",
    "    data = []\n",
    "    qty = qty\n",
    "    for i in range(qty):\n",
    "        DM = np.random.uniform(low=5, high=200)\n",
    "        width = int(np.random.uniform(low=1, high=20))\n",
    "        burst = make_burst(DM, width)\n",
    "        data.append([DM, burst])\n",
    "    return data"
   ]
  },
  {
   "cell_type": "code",
   "execution_count": 304,
   "id": "198969a5",
   "metadata": {},
   "outputs": [],
   "source": [
    "data = generate_data(1000)"
   ]
  },
  {
   "cell_type": "code",
   "execution_count": 248,
   "id": "5d27e753",
   "metadata": {},
   "outputs": [],
   "source": [
    "data_2d = generate_data(10000)"
   ]
  },
  {
   "cell_type": "code",
   "execution_count": 287,
   "id": "30925ae2",
   "metadata": {},
   "outputs": [
    {
     "data": {
      "image/png": "[encoded data removed]",
      "text/plain": [
       "<Figure size 432x288 with 1 Axes>"
      ]
     },
     "metadata": {
      "needs_background": "light"
     },
     "output_type": "display_data"
    }
   ],
   "source": [
    "plt.imshow(data[18][1][:,:800])\n",
    "plt.gca().set_aspect('auto')\n",
    "plt.show()"
   ]
  },
  {
   "cell_type": "code",
   "execution_count": 73,
   "id": "81b1663f",
   "metadata": {
    "scrolled": false
   },
   "outputs": [
    {
     "name": "stdout",
     "output_type": "stream",
     "text": [
      "[368, 393, 422, 454, 489, 529, 575, 626, 684, 751]\n"
     ]
    }
   ],
   "source": [
    "d = []\n",
    "for i in range(10):\n",
    "    d.append(int(4140.*200*1000/(1500-50*i)**2))\n",
    "print(d)"
   ]
  },
  {
   "cell_type": "code",
   "execution_count": 305,
   "id": "b6bc1a63",
   "metadata": {
    "scrolled": true
   },
   "outputs": [
    {
     "name": "stdout",
     "output_type": "stream",
     "text": [
      "(5000, 2)\n"
     ]
    },
    {
     "name": "stderr",
     "output_type": "stream",
     "text": [
      "/var/folders/b_/601lqv7d3mg79nf_9cc89gd40000gn/T/ipykernel_34589/2962232681.py:1: VisibleDeprecationWarning: Creating an ndarray from ragged nested sequences (which is a list-or-tuple of lists-or-tuples-or ndarrays with different lengths or shapes) is deprecated. If you meant to do this, you must specify 'dtype=object' when creating the ndarray.\n",
      "  data = np.array(data)\n"
     ]
    }
   ],
   "source": [
    "data = np.array(data)\n",
    "print(data.shape)\n",
    "x = data[:,1]\n",
    "y = data[:,0]"
   ]
  },
  {
   "cell_type": "code",
   "execution_count": 250,
   "id": "bcb7da9c",
   "metadata": {},
   "outputs": [
    {
     "name": "stdout",
     "output_type": "stream",
     "text": [
      "(10000, 2)\n"
     ]
    },
    {
     "name": "stderr",
     "output_type": "stream",
     "text": [
      "/var/folders/b_/601lqv7d3mg79nf_9cc89gd40000gn/T/ipykernel_34589/2853163764.py:1: VisibleDeprecationWarning: Creating an ndarray from ragged nested sequences (which is a list-or-tuple of lists-or-tuples-or ndarrays with different lengths or shapes) is deprecated. If you meant to do this, you must specify 'dtype=object' when creating the ndarray.\n",
      "  data_2d = np.array(data_2d)\n"
     ]
    }
   ],
   "source": [
    "data_2d = np.array(data_2d)\n",
    "print(data_2d.shape)\n",
    "x2 = data_2d[:,1]\n",
    "y2 = data_2d[:,0]"
   ]
  },
  {
   "cell_type": "code",
   "execution_count": 301,
   "id": "851282c1",
   "metadata": {},
   "outputs": [],
   "source": [
    "import torch.nn as nn\n",
    " \n",
    "# Define the model\n",
    "model = nn.Sequential(\n",
    "    nn.Linear(8000, 2**13),\n",
    "    nn.ReLU(),\n",
    "    nn.Linear(2**13, 2**6),\n",
    "    nn.ReLU(),\n",
    "    nn.Linear(2**6, 2**3),\n",
    "    nn.ReLU(),\n",
    "    nn.Linear(2**3, 1)\n",
    ")"
   ]
  },
  {
   "cell_type": "code",
   "execution_count": 275,
   "id": "7e4a4ba5",
   "metadata": {},
   "outputs": [],
   "source": [
    "#import torch.nn.functional as F\n",
    "\n",
    "model_2d = nn.Sequential(\n",
    "    nn.Conv2d(16, 8, 2, 2, bias=False),\n",
    "    nn.ReLU(),\n",
    "    nn.Conv2d(8, 16, 2, 2, bias=False),\n",
    "    nn.ReLU(),\n",
    "    nn.Flatten(),\n",
    "    nn.Linear(1000, 16),\n",
    "    nn.ReLU(),\n",
    "    nn.Linear(16, 1)\n",
    ")"
   ]
  },
  {
   "cell_type": "code",
   "execution_count": 85,
   "id": "659b00b0",
   "metadata": {},
   "outputs": [],
   "source": [
    "import torch.optim as optim\n",
    " \n",
    "# loss function and optimizer\n",
    "loss_fn = nn.MSELoss()  # mean square error\n",
    "optimizer = optim.Adam(model.parameters(), lr=0.0001)"
   ]
  },
  {
   "cell_type": "code",
   "execution_count": 86,
   "id": "81ad9d47",
   "metadata": {},
   "outputs": [],
   "source": [
    "import copy\n",
    "import torch\n",
    "import tqdm\n",
    "from sklearn.model_selection import train_test_split"
   ]
  },
  {
   "cell_type": "code",
   "execution_count": 306,
   "id": "92cc0a77",
   "metadata": {
    "scrolled": true
   },
   "outputs": [
    {
     "name": "stdout",
     "output_type": "stream",
     "text": [
      "[array([1., 1., 1., ..., 0., 0., 0.]) array([1., 1., 1., ..., 0., 0., 0.])\n",
      " array([1., 1., 1., ..., 0., 0., 0.]) ...\n",
      " array([1., 1., 1., ..., 0., 0., 0.]) array([1., 1., 1., ..., 0., 0., 0.])\n",
      " array([1., 1., 1., ..., 0., 0., 0.])]\n"
     ]
    }
   ],
   "source": [
    "# train-test split of the dataset\n",
    "x_train, x_test, y_train, y_test = train_test_split(x, y, train_size=0.7, shuffle=True)\n",
    "for i in range(len(x_train)):\n",
    "    x_train[i] = x_train[i].flatten()\n",
    "for i in range(len(x_test)):\n",
    "    x_test[i] = x_test[i].flatten()\n",
    "print(x_train)\n",
    "#for i in range(len(x_train)):\n",
    "#    x_train[i] = torch.tensor(x_train[i], dtype=torch.float32)\n",
    "#for i in range(len(x_test)):\n",
    "#    x_test[i] = torch.tensor(x_test[i], dtype=torch.float32)"
   ]
  },
  {
   "cell_type": "code",
   "execution_count": 251,
   "id": "00fbd018",
   "metadata": {},
   "outputs": [],
   "source": [
    "x2_train, x2_test, y2_train, y2_test = train_test_split(x2, y2, train_size=0.7, shuffle=True)"
   ]
  },
  {
   "cell_type": "code",
   "execution_count": 252,
   "id": "bc2d5a90",
   "metadata": {},
   "outputs": [],
   "source": [
    "x2_train = [torch.tensor(x2_train[i], dtype=torch.float64) for i in range(len(x2_train))]"
   ]
  },
  {
   "cell_type": "code",
   "execution_count": 253,
   "id": "3905c46a",
   "metadata": {},
   "outputs": [],
   "source": [
    "x2_test = [torch.tensor(x2_test[i], dtype=torch.float64) for i in range(len(x2_test))]\n",
    "#y2_train = [torch.tensor(y2_train[i]) for i in range(len(y2_train))]\n",
    "#y2_test = [torch.tensor(y2_test[i]) for i in range(len(y2_test))]"
   ]
  },
  {
   "cell_type": "code",
   "execution_count": 254,
   "id": "b504c5ef",
   "metadata": {},
   "outputs": [],
   "source": [
    "x2_train = torch.stack(x2_train)"
   ]
  },
  {
   "cell_type": "code",
   "execution_count": 255,
   "id": "a24d0562",
   "metadata": {
    "scrolled": false
   },
   "outputs": [],
   "source": [
    "x2_test = torch.stack(x2_test)\n",
    "#y2_train = torch.cat(y2_train)\n",
    "#y2_test = torch.cat(y2_test)"
   ]
  },
  {
   "cell_type": "code",
   "execution_count": 256,
   "id": "f9903116",
   "metadata": {},
   "outputs": [
    {
     "name": "stdout",
     "output_type": "stream",
     "text": [
      "torch.Size([7000, 20, 800])\n"
     ]
    }
   ],
   "source": [
    "print(x2_train.size())"
   ]
  },
  {
   "cell_type": "code",
   "execution_count": 161,
   "id": "d635a828",
   "metadata": {
    "scrolled": true
   },
   "outputs": [
    {
     "ename": "RuntimeError",
     "evalue": "zero-dimensional tensor (at position 0) cannot be concatenated",
     "output_type": "error",
     "traceback": [
      "\u001b[0;31m---------------------------------------------------------------------------\u001b[0m",
      "\u001b[0;31mRuntimeError\u001b[0m                              Traceback (most recent call last)",
      "Input \u001b[0;32mIn [161]\u001b[0m, in \u001b[0;36m<cell line: 1>\u001b[0;34m()\u001b[0m\n\u001b[0;32m----> 1\u001b[0m y2_train \u001b[38;5;241m=\u001b[39m \u001b[43mtorch\u001b[49m\u001b[38;5;241;43m.\u001b[39;49m\u001b[43mcat\u001b[49m\u001b[43m(\u001b[49m\u001b[43my2_train\u001b[49m\u001b[43m)\u001b[49m\n\u001b[1;32m      2\u001b[0m \u001b[38;5;28mprint\u001b[39m(y2_train)\n",
      "\u001b[0;31mRuntimeError\u001b[0m: zero-dimensional tensor (at position 0) cannot be concatenated"
     ]
    }
   ],
   "source": [
    "y2_train = torch.cat(y2_train)\n",
    "print(y2_train)"
   ]
  },
  {
   "cell_type": "code",
   "execution_count": 307,
   "id": "56aff12c",
   "metadata": {
    "scrolled": false
   },
   "outputs": [
    {
     "name": "stdout",
     "output_type": "stream",
     "text": [
      "(3500, 8000)\n"
     ]
    }
   ],
   "source": [
    "x_train=np.vstack(x_train).astype(float)\n",
    "print(x_train.shape)"
   ]
  },
  {
   "cell_type": "code",
   "execution_count": 308,
   "id": "9675f6e7",
   "metadata": {
    "scrolled": true
   },
   "outputs": [
    {
     "name": "stdout",
     "output_type": "stream",
     "text": [
      "(1500, 8000)\n"
     ]
    }
   ],
   "source": [
    "x_test = np.vstack(x_test).astype(float)\n",
    "print(x_test.shape)"
   ]
  },
  {
   "cell_type": "code",
   "execution_count": 309,
   "id": "0308f1c0",
   "metadata": {},
   "outputs": [
    {
     "name": "stdout",
     "output_type": "stream",
     "text": [
      "(3500, 1)\n",
      "(1500, 1)\n"
     ]
    }
   ],
   "source": [
    "y_train = np.vstack(y_train).astype(float)\n",
    "print(y_train.shape)\n",
    "y_test = np.vstack(y_test).astype(float)\n",
    "print(y_test.shape)"
   ]
  },
  {
   "cell_type": "code",
   "execution_count": 190,
   "id": "abb55b36",
   "metadata": {},
   "outputs": [
    {
     "name": "stdout",
     "output_type": "stream",
     "text": [
      "[75.87762302179658 103.6354918022069 60.10369987100339 191.78919152684966\n",
      " 129.8207692426845 163.10213571077534 47.05710203856464 190.68635992349817\n",
      " 53.15122559969493 20.7608802653062 174.94254937330172 9.245630598885947\n",
      " 23.32497995943448 168.52609557402562 61.36186456828245 121.55789871379568\n",
      " 111.3047051482111 47.024039380074626 152.35629251153057 55.62036463081255\n",
      " 98.99344318304962 184.79824615715853 161.05261279441564\n",
      " 107.08642938903235 131.96773067749294 23.894170236390643\n",
      " 27.066582445487903 92.23463965567922 125.85863604772716\n",
      " 152.73623079224583 192.2829032429748 61.30575401107982 100.63444818175633\n",
      " 15.848184407131315 72.29175285088115 34.72499616416344 169.97738725352835\n",
      " 130.73131033563436 18.60243655608641 40.19566431205841 93.31930671695986\n",
      " 112.58516305934374 142.73666722662816 90.73925370425198\n",
      " 170.84506693276379 92.97555287955883 104.17334660403114\n",
      " 154.04611496573673 54.88259711112555 14.135667080070409 16.97586593069206\n",
      " 56.84856671147394 41.16044314682591 135.1070904700031 68.45696610052977\n",
      " 160.12984199423357 30.99277967831694 124.46049927016416 95.67910122681808\n",
      " 85.05259750876606 70.8686690153488 185.2726392494546 141.7974944808042\n",
      " 198.4871178024683 117.20515624803645 21.265962739361335 27.38766039305472\n",
      " 176.7393118278863 56.863139796894906 176.71879944328379 32.28149393898104\n",
      " 109.01795419604635 182.02302297969598 6.891772285737983\n",
      " 51.664076672535856 101.97635359075517 175.98391970268023\n",
      " 126.02442594563234 153.24355423943635 196.24445069611593\n",
      " 155.67746742202965 69.69473272015281 142.4587418345036 171.52031537827546\n",
      " 86.27399788127201 49.33763809404778 41.15532055569799 63.01527765302473\n",
      " 117.02302312643955 142.4479030420105 175.68702949870635 37.98383582173091\n",
      " 21.429490098562642 80.92120844518413 18.6129119768169 24.221128898459792\n",
      " 59.82213103960735 147.17870822641484 91.99803568319133 31.719708257745346\n",
      " 182.35111081689325 35.33406020285814 20.69424179329339 46.98888324457088\n",
      " 5.954864340756406 192.51172345961746 46.457972092524805\n",
      " 118.41929554424937 117.4627006815852 165.99372488558348\n",
      " 113.89850968498293 119.59066175751556 88.45418729772298 133.218153328766\n",
      " 168.85982790019537 38.842588572178535 28.134758708037605\n",
      " 187.29173033853505 55.803486128708926 72.5060030831177 13.262119372399866\n",
      " 20.210741033570294 67.920262500657 142.7611964014995 195.59696139350015\n",
      " 79.54625092714952 16.500686397091222 24.802656167467525 74.26002724049798\n",
      " 198.57193352878886 187.56357379995572 161.48543988268386\n",
      " 141.9919138900703 141.82514860451778 10.866204234162064\n",
      " 153.37602878430434 172.10016559953525 161.41669681902803\n",
      " 148.73667845321566 6.167524857561532 170.33224072220304\n",
      " 167.63023484994727 42.74344833139581 160.75495883324461 122.1349572702649\n",
      " 197.53130362246452 156.66084177688458 23.43228871544143 95.00558154008304\n",
      " 135.49594303939185 20.970358467030643 146.52730471679357\n",
      " 178.79161703886146 148.59275940929138 107.98382024716454\n",
      " 7.8992656762952205 115.31651092558694 84.2637339445994 18.297602805191246\n",
      " 33.1401677407015 120.46305393114787 155.3339213746538 108.18934243608578\n",
      " 143.2645716403417 62.50061024758713 189.4143154701278 16.976664749206932\n",
      " 190.95710783198012 99.66546954111212 111.2464105449544 49.69865585635295\n",
      " 178.25286006393608 105.43459043703403 62.86198467122473 45.77460573829066\n",
      " 30.738496682744913 11.408336513880485 147.7247183456152 104.6247663686817\n",
      " 145.9872149206351 75.98844686706013 131.00417138502513 172.55513383025226\n",
      " 72.01235589879529 135.0426733312173 16.82229959272724 190.02592152431384\n",
      " 53.16616627909999 114.79803803089823 74.95020433116073 63.51934724712582\n",
      " 131.93070929577988 54.65937636110234 112.86451683705509\n",
      " 31.775370929934496 40.57260116158722 30.82072517000795 61.54152870326702\n",
      " 17.871437724504773 133.40818137152786 156.76332696124467\n",
      " 51.72072182246462 138.8017592684985 21.881023937662473 52.94553813650837\n",
      " 139.3558885434705 102.50226626750624 52.99109410226962 192.44037680364738\n",
      " 75.7413127286603 169.6990999387136 22.417381431567744 34.09024946957483\n",
      " 190.46147593677378 29.366387804239846 25.17333232653569 9.683329608897377\n",
      " 102.07065209721858 190.64121863841356 86.63530908301792\n",
      " 120.48985077475764 36.37939879013554 136.65863009748327\n",
      " 15.689892329424506 75.19151334585641 61.356527812064414\n",
      " 140.39209637872187 149.5212827738045 108.19625735382105\n",
      " 40.123726409758426 109.76114402433339 132.63060083249218\n",
      " 135.86779514218856 167.45259768199713 100.13859671545869\n",
      " 53.02838604973088 175.20519016006844 183.07476016855358 124.6599535453331\n",
      " 72.72445811431187 5.673093626873014 96.23503259020262 76.62658135944554\n",
      " 131.15502806584402 126.29776162677912 83.2593651821792 112.40892417012687\n",
      " 63.5383487589816 74.58409975826154 39.69476224754456 22.728586489206375\n",
      " 18.56427940562167 122.71159020159891 151.25487773764957\n",
      " 175.43301266022274 148.79672559965638 171.70108144900541\n",
      " 163.49432654513532 155.02134642809048 36.931773256753154\n",
      " 62.72617106991588 69.30338499924383 66.92938330569996 145.14803340583273\n",
      " 93.26495191194435 23.266592890421055 36.747897777522425\n",
      " 192.74062977683403 182.46730971174134 84.145773418095 25.653186210616592\n",
      " 151.03214239505374 161.29898960701985 126.10147917569572\n",
      " 123.39436451545808 198.41683358666313 6.492189414216689\n",
      " 154.10017414390052 47.02311925625914 12.295266141375537 49.21520968574362\n",
      " 72.76614861281676 32.45468233021012 77.55388619999098 66.82918085094693\n",
      " 43.55556774300381 43.479411873675005 62.22060572830688 58.62221630384597\n",
      " 74.65163861796275 83.97814248064319 138.21839108832924 88.41052585445435\n",
      " 65.14870934276007 85.32596744852276 172.16180674652318 190.54784672858278\n",
      " 49.510716936544746 119.8656038626834 52.955448591945476 69.13910230576442\n",
      " 185.8970590139781 71.45654069959637 199.62077505386458 147.5758995910645\n",
      " 30.474698977393277 187.33750925756163 151.40144493050147\n",
      " 151.42949094024164 79.774958574417 46.126215960076784 103.96884545360108\n",
      " 177.73698634681028 153.7495733917432 134.0562349564183 194.1225696987394\n",
      " 139.05663582316038 169.20632117672204 132.0377748587381\n",
      " 121.26948164389155 84.52640505818653 189.39001635221726\n",
      " 31.672461009308474 141.50593321766422 16.41007106826645 18.96393896098175\n",
      " 31.782095515431013 142.7238325633105 187.84800260489445\n",
      " 129.07319041314676 73.9440282734853 180.88509410652318 86.94968808936369\n",
      " 198.49636747733635 98.22789979343399 115.74560927630026 23.64083672248799\n",
      " 58.731539659292615 119.65230550038522 125.01922695469594\n",
      " 111.87009829836862 56.29987960394863 9.323793303136636 24.708893176625338\n",
      " 104.02775347739878 135.0805200219501 60.21173693305456 179.35608614016547\n",
      " 110.65310354705802 77.31925122096038 65.45572185176638 132.40232840275985\n",
      " 159.35527231224174 53.58136843176545 146.39718756880166 134.1629300302409\n",
      " 120.51446941642952 128.14122968605284 155.81804014654523\n",
      " 87.24219498660712 169.58787965281013 36.44273031806512 109.38042981787045\n",
      " 35.223136416884316 19.219441789561266 94.49776183212927 193.7696643329304\n",
      " 163.71303661630176 120.19704836297232 85.93410522148011\n",
      " 126.51274477217494 16.165405461338846 84.94015972657748\n",
      " 126.93650509237756 93.53613093601584 133.17039996182666\n",
      " 157.69711610503518 41.75805614402164 43.84890168131314 66.0086651864907\n",
      " 176.4954938045104 7.448543663340509 164.09066257029812 168.87679614525757\n",
      " 123.69879537185008 165.13958570306266 93.04830990347654\n",
      " 125.43029921710465 159.70935391427867 29.547707110774592\n",
      " 96.43595080521253 71.00458366663842 141.0046133478249 143.18914643417747\n",
      " 79.96704881566487 154.0665116024032 128.33400631957454 169.21727499122906\n",
      " 170.62799763548003 179.33461355211983 166.16347691637856\n",
      " 63.22704384755329 88.00835061458085 181.53018929291906 70.2657116376873\n",
      " 155.6283716669431 158.0951507939614 180.48679221899243 131.34122480604125\n",
      " 47.88209483073694 167.64122916271933 85.97736924959207 13.863573547332246\n",
      " 143.13386207487054 124.92429425658989 136.79878549071097\n",
      " 87.25435388765122 113.7417648277944 148.291385616803 176.07495519201845\n",
      " 183.98442072539268 149.27965466337878 5.007444694805631 19.85120435188829\n",
      " 95.01549725986115 189.2874967739415 186.42268819719564 173.75265898231382\n",
      " 96.66752223787293 68.8540548433194 10.118498345641036 151.87543328579807\n",
      " 47.086616276218706 179.85570589291999 77.29622662183263\n",
      " 159.36973757242387 38.95148676556201 123.79499188178951 95.67588521537378\n",
      " 8.52575134529493 51.34428503234399 13.772660182102832 131.04593068693947\n",
      " 86.12345722362198 156.24413035675 124.00610299114193 83.96358041074687\n",
      " 15.385589243028905 5.154341963009472 29.06371492435205 6.920832261337837\n",
      " 63.227930731029076 113.99170292566227 91.73707080296145\n",
      " 137.52113338601146 112.48349977466829 107.90774254934364\n",
      " 140.29861912479623 33.27878640103421 109.5860806818286 103.43608727853882\n",
      " 102.00506501564477 84.0021048931208 73.65200482359553 137.10928631577036\n",
      " 55.22108353941987 56.17782200399706 73.39714883775046 113.1590380404321\n",
      " 61.719939542085115 132.45848427500005 123.69766700536368\n",
      " 22.614007318768728 186.16614237126825 182.312647854063 143.4243619160907\n",
      " 142.941746400844 70.79257912526343 188.9220138623029 172.441101192134\n",
      " 114.13525802949252 189.60831093055808 9.711722636745439\n",
      " 136.00290439807532 60.80046120756712 91.62930724967087 159.19191525083014\n",
      " 182.89617541276374 140.13271106075325 125.55765306469242\n",
      " 183.88411619395865 116.45626596464783 195.3495118697231 9.164225607479718\n",
      " 136.9819167096017 76.7180167847493 150.41174650868365 133.66731871070206\n",
      " 64.289166389081 37.791156183838275 109.99683024425904 195.53105142478339\n",
      " 191.52249914395193 109.62576214213894 143.78036728112218\n",
      " 173.03715065164175 154.2003911169649 151.8449320682658 127.6733050695959\n",
      " 116.99345665115777 70.7143070481752 89.54640528711302 123.70822384928306\n",
      " 72.43613271708624 170.70140123231474 196.2231685073949 48.25669162080971\n",
      " 34.9569579768717 36.16977602600487 20.80495092491816 48.78388837056035\n",
      " 30.02195342651884 64.08261944454324 14.916891067086937 152.9277024485175\n",
      " 68.9620759577522 102.76802414932406 103.53035115443215 143.1249657978829\n",
      " 46.3971627416433 20.848477431544772 189.97602494928512 156.3670033969525\n",
      " 70.84492943259949 62.78287264913367 103.05062798682428 55.277047287319434\n",
      " 161.29771221220187 18.10642678742506 197.18398496040632 147.0544937847361\n",
      " 122.18284177907317 90.02039209992655 178.82521964465926 96.20585549289987\n",
      " 137.48698798246215 104.56553201449384 187.23694215061127\n",
      " 43.19974662694839 160.49536379252677 23.89054188530076 18.52314025576868\n",
      " 162.69980024701738 9.60856784720166 90.44963113974707 102.74511989551965\n",
      " 11.158759912282804 50.204797404859896 81.517921293464 188.70132150769112\n",
      " 89.82529343999789 158.34128359706125 192.19253455136385\n",
      " 21.036812695352342 101.99319919885617 106.54668740361156\n",
      " 149.9272133954435 172.92242452806872 177.90476236353012 91.25421815483763\n",
      " 185.86836811161587 152.02090064631483 133.98420035242458 85.5005417386147\n",
      " 43.24367524709238 39.66526724347423 12.984428651811683 62.101124492607816\n",
      " 43.646819033838135 128.9512067285093 14.393118471116301 158.6329368739299\n",
      " 30.114522491172064 149.1446833891389 40.88740065721681 177.15863405745745\n",
      " 90.52918785790335 83.83022341681972 150.28964969108907 38.692108310682514\n",
      " 16.59106832250292 81.79878371693145 37.76710784984321 88.30722701674173\n",
      " 41.344732342785626 16.032178258970177 159.00954633189824\n",
      " 70.80284687282665 163.89297581098165 44.3616913401184 151.46311334157858\n",
      " 144.25902974471379 46.562327558939316 16.83643934122896 18.3249993274155\n",
      " 17.566908972701015 18.67114130788419 140.62822062667115 42.24656239308995\n",
      " 188.8647970311096 159.8624843356768 74.99140886351992 32.660226723709215\n",
      " 128.44616529694514 44.163569196835205 156.50868823995364\n",
      " 125.72818129428282 19.10907089310228 195.8348047125671 73.149546282538\n",
      " 99.37275514498666 167.92318945817857 72.56441111800862 52.77735498993429\n",
      " 28.838889221953885 147.72272719109267 28.733440660835942\n",
      " 99.78031246811993 71.51516393853538 54.87561785338786 18.073064668288666\n",
      " 49.82309435813772 162.40163760248828 37.74240377852995 43.899872023653664\n",
      " 161.5636987381848 15.140329747200605 5.287283722846084 145.89038521129103\n",
      " 99.27978360890049 160.57064097340515 146.84752085921247 97.04113642848186\n",
      " 21.52782795867948 17.64921634728035 81.81157091329658 180.99620884667186\n",
      " 120.0385767807082 66.76416959929868 138.54969396701543 195.41827738217327\n",
      " 23.56595136394601 124.81786413418793 155.34957018747494 81.62903920069063\n",
      " 129.1364037708778 48.378935169238495 10.283015554928093\n",
      " 23.051197265251744 193.88038773205574 102.26760249635493\n",
      " 145.43248616942347 68.23531587298427 166.0697715133339 174.26046575038703\n",
      " 163.73529493376108 173.03909865250782 26.60078773854788\n",
      " 169.05758629235797 102.43464603033082 50.34835594309252\n",
      " 30.569571438348337 73.31669592882432 8.562011355242227 116.03734351657094\n",
      " 140.82446733284732 65.8688327479723 164.17372182320858 115.21307160219128\n",
      " 173.6954041815096 175.6112935149758 111.07880526807402 64.99091120133409\n",
      " 178.28897897098906 51.44858647435228 36.06315941675167 60.54879100028744\n",
      " 73.42656582814487 180.6533637467646 152.98089390857544 113.14044026588965\n",
      " 7.331570610645398 40.72088564600034 154.6770592428768 60.90397512476093\n",
      " 123.90636143921881 75.18503593783606 185.8298568792231 63.200080078416306\n",
      " 67.74471143112831]\n"
     ]
    }
   ],
   "source": [
    "print(y2_train)"
   ]
  },
  {
   "cell_type": "code",
   "execution_count": 257,
   "id": "f29af1ab",
   "metadata": {
    "scrolled": true
   },
   "outputs": [
    {
     "name": "stdout",
     "output_type": "stream",
     "text": [
      "(7000, 1)\n",
      "(3000, 1)\n"
     ]
    }
   ],
   "source": [
    "y2_train = np.vstack(y2_train).astype(float)\n",
    "print(y2_train.shape)\n",
    "y2_test = np.vstack(y2_test).astype(float)\n",
    "print(y2_test.shape)\n",
    "\n",
    "y2_train = torch.tensor(y2_train, dtype=torch.float64)\n",
    "y2_test = torch.tensor(y2_test, dtype=torch.float64)"
   ]
  },
  {
   "cell_type": "code",
   "execution_count": 310,
   "id": "903f5931",
   "metadata": {
    "scrolled": true
   },
   "outputs": [],
   "source": [
    "x_train = torch.tensor(x_train, dtype=torch.float32)\n",
    "y_train = torch.tensor(y_train, dtype=torch.float32).reshape(-1, 1)\n",
    "x_test = torch.tensor(x_test, dtype=torch.float32)\n",
    "y_test = torch.tensor(y_test, dtype=torch.float32).reshape(-1, 1)"
   ]
  },
  {
   "cell_type": "code",
   "execution_count": 311,
   "id": "eccc729c",
   "metadata": {},
   "outputs": [],
   "source": [
    "# training parameters\n",
    "n_epochs = 20   # number of epochs to run\n",
    "batch_size = 10  # size of each batch\n",
    "batch_start = torch.arange(0, len(x_train), batch_size)"
   ]
  },
  {
   "cell_type": "code",
   "execution_count": 312,
   "id": "07cdedb1",
   "metadata": {},
   "outputs": [],
   "source": [
    "### Hold the best model\n",
    "best_mse = np.inf   # init to infinity\n",
    "best_weights = None\n",
    "history = []"
   ]
  },
  {
   "cell_type": "code",
   "execution_count": 313,
   "id": "6d27d20c",
   "metadata": {},
   "outputs": [
    {
     "name": "stdout",
     "output_type": "stream",
     "text": [
      "Epoch 0 done\n",
      "Epoch 1 done\n",
      "Epoch 2 done\n",
      "Epoch 3 done\n",
      "Epoch 4 done\n",
      "Epoch 5 done\n",
      "Epoch 6 done\n",
      "Epoch 7 done\n",
      "Epoch 8 done\n",
      "Epoch 9 done\n",
      "Epoch 10 done\n",
      "Epoch 11 done\n",
      "Epoch 12 done\n",
      "Epoch 13 done\n",
      "Epoch 14 done\n",
      "Epoch 15 done\n",
      "Epoch 16 done\n",
      "Epoch 17 done\n",
      "Epoch 18 done\n",
      "Epoch 19 done\n"
     ]
    }
   ],
   "source": [
    "# training loop\n",
    "for epoch in range(n_epochs):\n",
    "    model.train()\n",
    "    with tqdm.tqdm(batch_start, unit=\"batch\", mininterval=0, disable=True) as bar:\n",
    "        bar.set_description(f\"Epoch {epoch}\")\n",
    "        for start in bar:\n",
    "            # take a batch\n",
    "            x_batch = x_train[start:start+batch_size]\n",
    "            y_batch = y_train[start:start+batch_size]\n",
    "            # forward pass\n",
    "            y_pred = model(x_batch)\n",
    "            loss = loss_fn(y_pred, y_batch)\n",
    "            # backward pass\n",
    "            optimizer.zero_grad()\n",
    "            loss.backward()\n",
    "            # update weights\n",
    "            optimizer.step()\n",
    "            # print progress\n",
    "            bar.set_postfix(mse=float(loss))\n",
    "    print('Epoch', epoch, 'done')\n",
    "    # evaluate accuracy at end of each epoch\n",
    "    model.eval()\n",
    "    y_pred = model(x_test)\n",
    "    mse = loss_fn(y_pred, y_test)\n",
    "    mse = float(mse)\n",
    "    history.append(mse)\n",
    "    if mse < best_mse:\n",
    "        best_mse = mse\n",
    "        best_weights = copy.deepcopy(model.state_dict())"
   ]
  },
  {
   "cell_type": "code",
   "execution_count": 276,
   "id": "a8a5b037",
   "metadata": {
    "scrolled": false
   },
   "outputs": [
    {
     "name": "stdout",
     "output_type": "stream",
     "text": [
      "epoch 0 done\n",
      "epoch 1 done\n",
      "epoch 2 done\n",
      "epoch 3 done\n",
      "epoch 4 done\n",
      "epoch 5 done\n",
      "epoch 6 done\n",
      "epoch 7 done\n",
      "epoch 8 done\n",
      "epoch 9 done\n",
      "epoch 10 done\n",
      "epoch 11 done\n",
      "epoch 12 done\n",
      "epoch 13 done\n",
      "epoch 14 done\n",
      "epoch 15 done\n",
      "epoch 16 done\n",
      "epoch 17 done\n",
      "epoch 18 done\n",
      "epoch 19 done\n",
      "epoch 20 done\n",
      "epoch 21 done\n",
      "epoch 22 done\n",
      "epoch 23 done\n",
      "epoch 24 done\n",
      "epoch 25 done\n",
      "epoch 26 done\n",
      "epoch 27 done\n",
      "epoch 28 done\n",
      "epoch 29 done\n"
     ]
    }
   ],
   "source": [
    "model_2d = model_2d.double()\n",
    "history_2d = []\n",
    "# training loop\n",
    "for epoch in range(n_epochs):\n",
    "    model_2d.train()\n",
    "    with tqdm.tqdm(batch_start, unit=\"batch\", mininterval=0, disable=True) as bar:\n",
    "        bar.set_description(f\"Epoch {epoch}\")\n",
    "        for start in bar:\n",
    "            # take a batch\n",
    "            x_batch = x2_train[start:start+batch_size]\n",
    "            y_batch = y2_train[start:start+batch_size]\n",
    "            # forward pass\n",
    "            y_pred = model_2d(x_batch)\n",
    "            #torch.transpose(your_tensor, 0, 1)\n",
    "            loss = loss_fn(y_pred, y_batch)\n",
    "            # backward pass\n",
    "            optimizer.zero_grad()\n",
    "            loss.backward()\n",
    "            # update weights\n",
    "            optimizer.step()\n",
    "            # print progress\n",
    "            bar.set_postfix(mse=float(loss))\n",
    "    print('epoch', epoch, 'done')\n",
    "    # evaluate accuracy at end of each epoch\n",
    "    model_2d.eval()\n",
    "    y_pred = model_2d(x2_test[batch_size*epoch:batch_size*(epoch+1)])\n",
    "    mse = loss_fn(y_pred, y2_test[batch_size*epoch:batch_size*(epoch+1)])\n",
    "    mse = float(mse)\n",
    "    history_2d.append(mse)\n",
    "    if mse < best_mse:\n",
    "        best_mse = mse\n",
    "        best_weights = copy.deepcopy(model.state_dict())"
   ]
  },
  {
   "cell_type": "code",
   "execution_count": 95,
   "id": "d4b380fb",
   "metadata": {},
   "outputs": [
    {
     "name": "stdout",
     "output_type": "stream",
     "text": [
      "10\n"
     ]
    }
   ],
   "source": [
    "print(n_epochs)"
   ]
  },
  {
   "cell_type": "code",
   "execution_count": 96,
   "id": "e4ec66ce",
   "metadata": {},
   "outputs": [
    {
     "data": {
      "text/plain": [
       "<All keys matched successfully>"
      ]
     },
     "execution_count": 96,
     "metadata": {},
     "output_type": "execute_result"
    }
   ],
   "source": [
    "# restore model and return best accuracy\n",
    "model.load_state_dict(best_weights)"
   ]
  },
  {
   "cell_type": "code",
   "execution_count": 314,
   "id": "4d5f4cbc",
   "metadata": {
    "scrolled": true
   },
   "outputs": [
    {
     "name": "stdout",
     "output_type": "stream",
     "text": [
      "MSE: 13845.76\n",
      "RMSE: 117.67\n"
     ]
    },
    {
     "data": {
      "image/png": "[encoded data removed]",
      "text/plain": [
       "<Figure size 432x288 with 1 Axes>"
      ]
     },
     "metadata": {
      "needs_background": "light"
     },
     "output_type": "display_data"
    }
   ],
   "source": [
    "print(\"MSE: %.2f\" % best_mse)\n",
    "print(\"RMSE: %.2f\" % np.sqrt(best_mse))\n",
    "plt.plot(history)\n",
    "plt.ylabel('mean squared error')\n",
    "plt.xlabel('epoch')\n",
    "plt.show()"
   ]
  },
  {
   "cell_type": "code",
   "execution_count": 277,
   "id": "30ceb68a",
   "metadata": {},
   "outputs": [
    {
     "name": "stdout",
     "output_type": "stream",
     "text": [
      "MSE: 6027.17\n",
      "RMSE: 77.63\n"
     ]
    },
    {
     "data": {
      "image/png": "[encoded data removed]",
      "text/plain": [
       "<Figure size 432x288 with 1 Axes>"
      ]
     },
     "metadata": {
      "needs_background": "light"
     },
     "output_type": "display_data"
    }
   ],
   "source": [
    "print(\"MSE: %.2f\" % best_mse)\n",
    "print(\"RMSE: %.2f\" % np.sqrt(best_mse))\n",
    "plt.plot(history_2d)\n",
    "plt.ylabel('mean squared error')\n",
    "plt.xlabel('epoch')\n",
    "plt.show()"
   ]
  },
  {
   "cell_type": "code",
   "execution_count": 117,
   "id": "64d9f348",
   "metadata": {},
   "outputs": [
    {
     "name": "stdout",
     "output_type": "stream",
     "text": [
      "torch.Size([8000])\n",
      "tensor([95.3375])\n"
     ]
    },
    {
     "name": "stderr",
     "output_type": "stream",
     "text": [
      "/var/folders/b_/601lqv7d3mg79nf_9cc89gd40000gn/T/ipykernel_34589/2747598020.py:3: UserWarning: To copy construct from a tensor, it is recommended to use sourceTensor.clone().detach() or sourceTensor.clone().detach().requires_grad_(True), rather than torch.tensor(sourceTensor).\n",
      "  burst100 = torch.tensor(burst100, dtype=torch.float32)\n"
     ]
    }
   ],
   "source": [
    "burst100 = burst100.flatten()\n",
    "#burst100 = np.vstack(burst100).astype(np.float)\n",
    "burst100 = torch.tensor(burst100, dtype=torch.float32)\n",
    "print(burst100.shape)\n",
    "y_pred = model(burst100)\n",
    "print(y_pred.data)"
   ]
  },
  {
   "cell_type": "code",
   "execution_count": null,
   "id": "37e7b98c",
   "metadata": {},
   "outputs": [],
   "source": []
  }
 ],
 "metadata": {
  "kernelspec": {
   "display_name": "Python 3 (ipykernel)",
   "language": "python",
   "name": "python3"
  },
  "language_info": {
   "codemirror_mode": {
    "name": "ipython",
    "version": 3
   },
   "file_extension": ".py",
   "mimetype": "text/x-python",
   "name": "python",
   "nbconvert_exporter": "python",
   "pygments_lexer": "ipython3",
   "version": "3.9.12"
  }
 },
 "nbformat": 4,
 "nbformat_minor": 5
}
